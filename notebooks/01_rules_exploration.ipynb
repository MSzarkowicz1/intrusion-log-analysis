{
 "cells": [],
 "metadata": {
  "jupytext": {
   "cell_metadata_filter": "-all",
   "formats": "notebooks//ipynb,src//py:percent"
  }
 },
 "nbformat": 4,
 "nbformat_minor": 5
}
