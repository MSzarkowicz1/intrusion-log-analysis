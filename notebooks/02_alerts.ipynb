{
 "cells": [
  {
   "cell_type": "code",
   "execution_count": null,
   "id": "9ec6889d",
   "metadata": {
    "title": "[imports]"
   },
   "outputs": [],
   "source": [
    "from pathlib import Path\n",
    "import re\n",
    "import pandas as pd\n",
    "\n",
    "from intrusion.paths import DATA_PATH, OUTPUTS_DIR, ensure_dirs\n",
    "from intrusion.data import load_df\n",
    "from intrusion.rules import build_rules\n",
    "from intrusion.evaluation import mask_for_label  # supports \"R5\" or \"R1 ^ R8\"\n",
    "\n",
    "pd.set_option(\"display.max_colwidth\", None)\n",
    "pd.set_option(\"display.width\", 1000)\n",
    "pd.set_option(\"display.max_columns\", None)\n",
    "\n",
    "ensure_dirs()"
   ]
  },
  {
   "cell_type": "code",
   "execution_count": null,
   "id": "7e688117",
   "metadata": {
    "title": "[load data + rules]"
   },
   "outputs": [],
   "source": [
    "df = load_df(DATA_PATH)\n",
    "rules = build_rules(df)\n",
    "target = df[\"attack_detected\"] == 1"
   ]
  },
  {
   "cell_type": "code",
   "execution_count": null,
   "id": "561d5603",
   "metadata": {
    "title": "[load priority]"
   },
   "outputs": [],
   "source": [
    "prio_file = OUTPUTS_DIR / \"priority.txt\"\n",
    "if prio_file.exists():\n",
    "    PRIORITY = [\n",
    "        line.strip() for line in prio_file.read_text().splitlines() if line.strip()\n",
    "    ]\n",
    "else:\n",
    "    # fallback (keep in sync with 01_rules.py if you change it there)\n",
    "    PRIORITY = [\n",
    "        \"R5\",\n",
    "        \"R7\",\n",
    "        \"R4 ^ R6\",\n",
    "        \"R1 ^ R8\",\n",
    "        \"R3 ^ R8\",\n",
    "        \"R8\",\n",
    "        \"R6\",\n",
    "        \"R3\",\n",
    "        \"R1\",\n",
    "        \"R2\",\n",
    "    ]\n",
    "print(\"Priority order:\", PRIORITY)"
   ]
  },
  {
   "cell_type": "code",
   "execution_count": null,
   "id": "85547a3d",
   "metadata": {
    "title": "[assign rule_of_record by priority]"
   },
   "outputs": [],
   "source": [
    "rule_of_record = pd.Series(pd.NA, index=df.index, dtype=\"string\")\n",
    "for label in PRIORITY:\n",
    "    m = mask_for_label(label, rules)\n",
    "    unassigned = rule_of_record.isna()\n",
    "    rule_of_record.loc[unassigned & m] = label"
   ]
  },
  {
   "cell_type": "code",
   "execution_count": null,
   "id": "46b2e3b3",
   "metadata": {
    "title": "[severity policy]"
   },
   "outputs": [],
   "source": [
    "# Simple policy: “High” = precise rules you trust (edit as you like).\n",
    "HIGH_SET = {\"R5\", \"R7\", \"R4 ^ R6\", \"R1 ^ R8\", \"R3 ^ R8\", \"R8\"}\n",
    "LOW_SET = {\"R6\", \"R3\", \"R1\", \"R2\"}  # add MED_SET later if you want finer control\n",
    "\n",
    "severity = pd.Series(\"Low\", index=df.index, dtype=\"string\")\n",
    "severity.loc[rule_of_record.isin(HIGH_SET)] = \"High\"\n",
    "# If you add a Medium block:\n",
    "# MED_SET = {...}\n",
    "# severity.loc[rule_of_record.isin(MED_SET)] = \"Medium\""
   ]
  },
  {
   "cell_type": "code",
   "execution_count": null,
   "id": "4703b4cf",
   "metadata": {
    "title": "[reasons column (which short rules fired)]"
   },
   "outputs": [],
   "source": [
    "# Optional: reason codes like \"R5,R7\" for transparency\n",
    "rule_short = {name.split()[0]: mask for name, mask in rules.items()}\n",
    "fired_ids = list(rule_short.keys())\n",
    "\n",
    "\n",
    "def row_reasons(i: int) -> str:\n",
    "    ids = [rid for rid in fired_ids if bool(rule_short[rid].iloc[i])]\n",
    "    return \",\".join(sorted(ids))\n",
    "\n",
    "\n",
    "any_rule_mask = pd.Series(False, index=df.index)\n",
    "for m in rules.values():\n",
    "    any_rule_mask |= m\n",
    "\n",
    "reasons = pd.Series(pd.NA, index=df.index, dtype=\"string\")\n",
    "reasons.loc[any_rule_mask] = [row_reasons(i) for i in df.index[any_rule_mask]]"
   ]
  },
  {
   "cell_type": "code",
   "execution_count": null,
   "id": "4f5e5502",
   "metadata": {
    "title": "[build alerts table]"
   },
   "outputs": [],
   "source": [
    "cols = [\n",
    "    \"session_id\",\n",
    "    \"failed_logins\",\n",
    "    \"login_attempts\",\n",
    "    \"ip_reputation_score\",\n",
    "    \"protocol_type\",\n",
    "    \"encryption_used\",\n",
    "    \"browser_type\",\n",
    "    \"session_duration\",\n",
    "]\n",
    "alerts = df.loc[rule_of_record.notna(), cols].copy()\n",
    "alerts[\"rule_of_record\"] = rule_of_record.loc[alerts.index].values\n",
    "alerts[\"reasons\"] = reasons.loc[alerts.index].values\n",
    "alerts[\"severity\"] = severity.loc[alerts.index].values\n",
    "alerts[\"severity_rank\"] = (\n",
    "    alerts[\"severity\"].map({\"High\": 3, \"Medium\": 2, \"Low\": 1}).astype(\"Int64\")\n",
    ")\n",
    "\n",
    "alerts = alerts.sort_values(\n",
    "    by=[\"severity_rank\", \"failed_logins\", \"ip_reputation_score\", \"session_duration\"],\n",
    "    ascending=[False, False, False, False],\n",
    ").reset_index(drop=True)\n",
    "\n",
    "out_path = OUTPUTS_DIR / \"alerts_priority.csv\"\n",
    "alerts.to_csv(out_path, index=False)\n",
    "print(\"Saved:\", out_path)"
   ]
  },
  {
   "cell_type": "code",
   "execution_count": null,
   "id": "68086728",
   "metadata": {
    "title": "[validate severities]"
   },
   "outputs": [],
   "source": [
    "baseline = float(target.mean())\n",
    "merged = alerts.merge(\n",
    "    df[[\"session_id\", \"attack_detected\"]], on=\"session_id\", how=\"left\"\n",
    ")\n",
    "by_sev = (\n",
    "    merged.groupby(\"severity\")[\"attack_detected\"]\n",
    "    .agg(rows=\"count\", precision=\"mean\")\n",
    "    .sort_values(\"rows\", ascending=False)\n",
    ")\n",
    "print(f\"Baseline attack rate: {baseline:.3f}\\nPrecision by severity:\\n{by_sev}\")\n",
    "\n",
    "# Optional: reasons summary (nice for the README)\n",
    "reasons_summary = (\n",
    "    alerts.groupby([\"severity\", \"reasons\"])\n",
    "    .size()\n",
    "    .reset_index(name=\"count\")\n",
    "    .sort_values([\"severity\", \"count\"], ascending=[True, False])\n",
    ")\n",
    "reasons_summary.to_csv(OUTPUTS_DIR / \"reasons_summary.csv\", index=False)"
   ]
  }
 ],
 "metadata": {
  "jupytext": {
   "cell_metadata_filter": "-all",
   "formats": "ipynb,py:percent",
   "main_language": "python"
  }
 },
 "nbformat": 4,
 "nbformat_minor": 5
}
