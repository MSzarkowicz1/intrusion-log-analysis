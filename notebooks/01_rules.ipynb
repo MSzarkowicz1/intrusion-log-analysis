{
 "cells": [
  {
   "cell_type": "code",
   "execution_count": null,
   "id": "b71ea8df",
   "metadata": {},
   "outputs": [],
   "source": [
    "from intrusion.paths import ROOT, DATA_PATH, OUTPUTS_DIR, FIGURES_DIR, ensure_dirs\n",
    "from intrusion.data import load_df\n",
    "from intrusion.rules import build_rules\n",
    "from intrusion.evaluation import evaluate"
   ]
  },
  {
   "cell_type": "code",
   "execution_count": null,
   "id": "5730efe5",
   "metadata": {},
   "outputs": [],
   "source": [
    "ensure_dirs()\n",
    "df = load_df(DATA_PATH)"
   ]
  },
  {
   "cell_type": "code",
   "execution_count": null,
   "id": "21574f2e",
   "metadata": {},
   "outputs": [],
   "source": [
    "rules = build_rules(df)\n",
    "target = (df[\"attack_detected\"] == 1)"
   ]
  },
  {
   "cell_type": "code",
   "execution_count": null,
   "id": "d1155bf5",
   "metadata": {},
   "outputs": [],
   "source": [
    "df_eval, baseline, total_attacks = evaluate(\n",
    "    rules, target,\n",
    "    min_support=20,\n",
    "    pair_ids=(\"R1\",\"R2\",\"R5\",\"R7\"),\n",
    "    triple_ids=(\"R1\",\"R3\",\"R5\",\"R6\",\"R7\")  # optional\n",
    ")"
   ]
  },
  {
   "cell_type": "code",
   "execution_count": null,
   "id": "73df9b6a",
   "metadata": {},
   "outputs": [],
   "source": [
    "print(f\"Baseline={baseline:.3f} | Total attacks={total_attacks}\")\n",
    "df_eval.head(15)"
   ]
  }
 ],
 "metadata": {
  "jupytext": {
   "cell_metadata_filter": "-all",
   "main_language": "python",
   "notebook_metadata_filter": "-all"
  }
 },
 "nbformat": 4,
 "nbformat_minor": 5
}
